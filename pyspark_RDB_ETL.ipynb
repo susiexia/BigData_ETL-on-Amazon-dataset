{
  "nbformat": 4,
  "nbformat_minor": 0,
  "metadata": {
    "colab": {
      "name": "pyspark_ETL.ipynb",
      "provenance": [],
      "collapsed_sections": [],
      "toc_visible": true,
      "authorship_tag": "ABX9TyNykYRlTVgZKuL8oe/uh/s6",
      "include_colab_link": true
    },
    "kernelspec": {
      "name": "python3",
      "display_name": "Python 3"
    }
  },
  "cells": [
    {
      "cell_type": "markdown",
      "metadata": {
        "id": "view-in-github",
        "colab_type": "text"
      },
      "source": [
        "<a href=\"https://colab.research.google.com/github/susiexia/BigData_ETL-on-Amazon-dataset/blob/master/pyspark_RDB_ETL.ipynb\" target=\"_parent\"><img src=\"https://colab.research.google.com/assets/colab-badge.svg\" alt=\"Open In Colab\"/></a>"
      ]
    },
    {
      "cell_type": "markdown",
      "metadata": {
        "id": "qWB1XgTNS8pg",
        "colab_type": "text"
      },
      "source": [
        "### **ETL** process of extracting datasets from AWS S3, transforming by pyspark in Colab, loading and writting directly to AWS RDS via jdbc"
      ]
    },
    {
      "cell_type": "markdown",
      "metadata": {
        "id": "Ft4vVlFvTo_X",
        "colab_type": "text"
      },
      "source": [
        "Prep steps: upload dataset to S3, and set up a pre-established db in RDS using pgAdmin"
      ]
    },
    {
      "cell_type": "code",
      "metadata": {
        "id": "z0JrggWfS20R",
        "colab_type": "code",
        "colab": {}
      },
      "source": [
        "# Install Java, Spark, and Findspark\n",
        "!apt-get install openjdk-8-jdk-headless -qq > /dev/null\n",
        "!wget -q http://www-us.apache.org/dist/spark/spark-2.4.5/spark-2.4.5-bin-hadoop2.7.tgz\n",
        "!tar xf spark-2.4.5-bin-hadoop2.7.tgz\n",
        "!pip install -q findspark\n",
        "\n",
        "# Set Environment Variables\n",
        "import os\n",
        "os.environ[\"JAVA_HOME\"] = \"/usr/lib/jvm/java-8-openjdk-amd64\"\n",
        "os.environ[\"SPARK_HOME\"] = \"/content/spark-2.4.5-bin-hadoop2.7\"\n",
        "\n",
        "# Start a SparkSession\n",
        "import findspark\n",
        "findspark.init()"
      ],
      "execution_count": 0,
      "outputs": []
    },
    {
      "cell_type": "markdown",
      "metadata": {
        "id": "4LcqhpYWdtV0",
        "colab_type": "text"
      },
      "source": [
        "For wirting spark directly to Postgres DB, download **a Postgres Driver** that will allow Spark to interact with Postgres:"
      ]
    },
    {
      "cell_type": "code",
      "metadata": {
        "id": "9264KYbiilDL",
        "colab_type": "code",
        "colab": {
          "base_uri": "https://localhost:8080/",
          "height": 204
        },
        "outputId": "a7a87b45-4207-4a27-b9ee-96ce39ad0d91"
      },
      "source": [
        "!wget https://jdbc.postgresql.org/download/postgresql-42.2.9.jar"
      ],
      "execution_count": 4,
      "outputs": [
        {
          "output_type": "stream",
          "text": [
            "--2020-03-14 00:11:50--  https://jdbc.postgresql.org/download/postgresql-42.2.9.jar\n",
            "Resolving jdbc.postgresql.org (jdbc.postgresql.org)... 72.32.157.228, 2001:4800:3e1:1::228\n",
            "Connecting to jdbc.postgresql.org (jdbc.postgresql.org)|72.32.157.228|:443... connected.\n",
            "HTTP request sent, awaiting response... 200 OK\n",
            "Length: 914037 (893K) [application/java-archive]\n",
            "Saving to: ‘postgresql-42.2.9.jar’\n",
            "\n",
            "postgresql-42.2.9.j 100%[===================>] 892.61K  3.60MB/s    in 0.2s    \n",
            "\n",
            "2020-03-14 00:11:50 (3.60 MB/s) - ‘postgresql-42.2.9.jar’ saved [914037/914037]\n",
            "\n"
          ],
          "name": "stdout"
        }
      ]
    },
    {
      "cell_type": "markdown",
      "metadata": {
        "id": "e258TKtSmJ-s",
        "colab_type": "text"
      },
      "source": [
        "Create a spark session, configured with downloaded Posetgres driver in content folder"
      ]
    },
    {
      "cell_type": "code",
      "metadata": {
        "id": "yniBOAYolyb1",
        "colab_type": "code",
        "colab": {}
      },
      "source": [
        "from pyspark.sql import SparkSession\n",
        "spark = SparkSession.builder.appName('BigDataETL')\\\n",
        "        .config(\"spark.driver.extraClassPath\", \"/content/postgresql-42.2.9.jar\")\\\n",
        "        .getOrCreate()"
      ],
      "execution_count": 0,
      "outputs": []
    },
    {
      "cell_type": "markdown",
      "metadata": {
        "id": "Xrw3dny1nNcR",
        "colab_type": "text"
      },
      "source": [
        "## EXTRACT\n",
        "\n",
        "Connect to data storage, extract d3 data into a spark DataFrame"
      ]
    },
    {
      "cell_type": "code",
      "metadata": {
        "id": "NwDnFT1snNGs",
        "colab_type": "code",
        "colab": {
          "base_uri": "https://localhost:8080/",
          "height": 391
        },
        "outputId": "fb476a5f-280f-4763-d308-96e1488f7918"
      },
      "source": [
        "# Read in data from S3 Bukets\n",
        "from pyspark import SparkFiles\n",
        "\n",
        "url_1= \"https://susiexiadatavizexample.s3.us-east-2.amazonaws.com/user_data.csv\"\n",
        "spark.sparkContext.addFile(url_1)\n",
        "user_df = spark.read.csv(SparkFiles.get('user_data.csv'), sep=',', header=True, inferSchema = True)\n",
        "user_df.show(n=5,truncate=False)\n",
        "\n",
        "url_2 = 'https://susiexiadatavizexample.s3.us-east-2.amazonaws.com/user_payment.csv'\n",
        "spark.sparkContext.addFile(url_2)\n",
        "payment_df=spark.read.csv(SparkFiles.get('user_payment.csv'), sep=',',header=True)\n",
        "payment_df.show(5)"
      ],
      "execution_count": 6,
      "outputs": [
        {
          "output_type": "stream",
          "text": [
            "+---+----------+---------+-----------+-------------------+--------------+---------+\n",
            "|id |first_name|last_name|active_user|street_address     |state         |username |\n",
            "+---+----------+---------+-----------+-------------------+--------------+---------+\n",
            "|1  |Cletus    |Lithcow  |false      |78309 Riverside Way|Virginia      |ibearham0|\n",
            "|2  |Caz       |Felgat   |false      |83 Hazelcrest Place|Alabama       |wwaller1 |\n",
            "|3  |Kerri     |Crowson  |false      |112 Eliot Pass     |North Carolina|ichesnut2|\n",
            "|4  |Freddie   |Caghy    |false      |15 Merchant Way    |New York      |tsnarr3  |\n",
            "|5  |Sadella   |Deuss    |false      |079 Acker Avenue   |Tennessee     |fwherrit4|\n",
            "+---+----------+---------+-----------+-------------------+--------------+---------+\n",
            "only showing top 5 rows\n",
            "\n",
            "+----------+---------+--------------------+\n",
            "|billing_id| username|        cc_encrypted|\n",
            "+----------+---------+--------------------+\n",
            "|         1|ibearham0|a799fcafe47d7fb19...|\n",
            "|         2| wwaller1|a799fcafe47d7fb19...|\n",
            "|         3|ichesnut2|a799fcafe47d7fb19...|\n",
            "|         4|  tsnarr3|a799fcafe47d7fb19...|\n",
            "|         5|fwherrit4|a799fcafe47d7fb19...|\n",
            "+----------+---------+--------------------+\n",
            "only showing top 5 rows\n",
            "\n"
          ],
          "name": "stdout"
        }
      ]
    },
    {
      "cell_type": "markdown",
      "metadata": {
        "id": "U-HzhHs0p5ww",
        "colab_type": "text"
      },
      "source": [
        "## TRANSFORM\n",
        "\n",
        "Use pyspark to JOIN, Clean, change data type, Filter, seperate into 3 tables"
      ]
    },
    {
      "cell_type": "code",
      "metadata": {
        "id": "rugzus3ip4zo",
        "colab_type": "code",
        "colab": {
          "base_uri": "https://localhost:8080/",
          "height": 459
        },
        "outputId": "774cae55-d89c-4358-d469-be68bff02873"
      },
      "source": [
        "# JOIN two df by pyspark\n",
        "joined_df = user_df.join(payment_df, on='username', how='inner')\n",
        "joined_df.show(n=5, truncate = False)"
      ],
      "execution_count": 7,
      "outputs": [
        {
          "output_type": "stream",
          "text": [
            "+------------+---+----------+---------+-----------+----------------------+--------------------+----------+----------------------------------------+\n",
            "|username    |id |first_name|last_name|active_user|street_address        |state               |billing_id|cc_encrypted                            |\n",
            "+------------+---+----------+---------+-----------+----------------------+--------------------+----------+----------------------------------------+\n",
            "|ibearham0   |1  |Cletus    |Lithcow  |false      |78309 Riverside Way   |Virginia            |1         |a799fcafe47d7fb19bfb02cd83855fdfc34b9f87|\n",
            "|wwaller1    |2  |Caz       |Felgat   |false      |83 Hazelcrest Place   |Alabama             |2         |a799fcafe47d7fb19bfb02cd83855fdfc34b9f87|\n",
            "|ichesnut2   |3  |Kerri     |Crowson  |false      |112 Eliot Pass        |North Carolina      |3         |a799fcafe47d7fb19bfb02cd83855fdfc34b9f87|\n",
            "|tsnarr3     |4  |Freddie   |Caghy    |false      |15 Merchant Way       |New York            |4         |a799fcafe47d7fb19bfb02cd83855fdfc34b9f87|\n",
            "|fwherrit4   |5  |Sadella   |Deuss    |false      |079 Acker Avenue      |Tennessee           |5         |a799fcafe47d7fb19bfb02cd83855fdfc34b9f87|\n",
            "|fstappard5  |6  |Fraser    |Korneev  |true       |76084 Novick Court    |Minnesota           |6         |a799fcafe47d7fb19bfb02cd83855fdfc34b9f87|\n",
            "|lhambling6  |7  |Demott    |Rapson   |true       |86320 Dahle Park      |District of Columbia|7         |a799fcafe47d7fb19bfb02cd83855fdfc34b9f87|\n",
            "|drude7      |8  |Robert    |Poile    |false      |1540 Manitowish Hill  |Georgia             |8         |a799fcafe47d7fb19bfb02cd83855fdfc34b9f87|\n",
            "|bspawton8   |9  |Nollie    |null     |true       |4 Katie Court         |Ohio                |9         |a799fcafe47d7fb19bfb02cd83855fdfc34b9f87|\n",
            "|rmackeller9 |10 |Merilyn   |Frascone |false      |387 Duke Street       |Ohio                |10        |a799fcafe47d7fb19bfb02cd83855fdfc34b9f87|\n",
            "|cdennerleya |11 |Rickie    |Tredwell |false      |04 Monterey Center    |Missouri            |11        |a799fcafe47d7fb19bfb02cd83855fdfc34b9f87|\n",
            "|gsarfasb    |12 |Charmane  |Connerry |false      |0 Larry Junction      |Florida             |12        |a799fcafe47d7fb19bfb02cd83855fdfc34b9f87|\n",
            "|mpichefordc |13 |Nerti     |Kerins   |false      |68 Portage Trail      |California          |13        |a799fcafe47d7fb19bfb02cd83855fdfc34b9f87|\n",
            "|bingryd     |14 |Bart      |null     |false      |8 Homewood Court      |District of Columbia|14        |a799fcafe47d7fb19bfb02cd83855fdfc34b9f87|\n",
            "|wheinerte   |15 |Sadella   |Jaram    |true       |7528 Waxwing Terrace  |Connecticut         |15        |a799fcafe47d7fb19bfb02cd83855fdfc34b9f87|\n",
            "|mdrewetf    |16 |Dicky     |Runnett  |false      |1793 Delaware Park    |Florida             |16        |a799fcafe47d7fb19bfb02cd83855fdfc34b9f87|\n",
            "|droughsedgeg|17 |Hewitt    |Trammel  |true       |2455 Corry Alley      |North Carolina      |17        |a799fcafe47d7fb19bfb02cd83855fdfc34b9f87|\n",
            "|abaakeh     |18 |Gilligan  |Boys     |false      |2 Raven Court         |Florida             |18        |a799fcafe47d7fb19bfb02cd83855fdfc34b9f87|\n",
            "|ydudeniei   |19 |Ted       |Knowlys  |true       |31 South Drive        |Ohio                |19        |a799fcafe47d7fb19bfb02cd83855fdfc34b9f87|\n",
            "|ckermittj   |20 |Darb      |Carrel   |false      |406 Park Meadow Center|Minnesota           |20        |a799fcafe47d7fb19bfb02cd83855fdfc34b9f87|\n",
            "+------------+---+----------+---------+-----------+----------------------+--------------------+----------+----------------------------------------+\n",
            "only showing top 20 rows\n",
            "\n"
          ],
          "name": "stdout"
        }
      ]
    },
    {
      "cell_type": "code",
      "metadata": {
        "id": "tDi-4Id3qJT8",
        "colab_type": "code",
        "colab": {
          "base_uri": "https://localhost:8080/",
          "height": 289
        },
        "outputId": "07408cb0-a7f6-4c93-9d70-143ce95bbb7f"
      },
      "source": [
        "# dropna() to drop any rows with null or NaN\n",
        "cleaned_df = joined_df.dropna()\n",
        "cleaned_df.show(n=10, truncate = False)"
      ],
      "execution_count": 8,
      "outputs": [
        {
          "output_type": "stream",
          "text": [
            "+-----------+---+----------+---------+-----------+--------------------+--------------------+----------+----------------------------------------+\n",
            "|username   |id |first_name|last_name|active_user|street_address      |state               |billing_id|cc_encrypted                            |\n",
            "+-----------+---+----------+---------+-----------+--------------------+--------------------+----------+----------------------------------------+\n",
            "|ibearham0  |1  |Cletus    |Lithcow  |false      |78309 Riverside Way |Virginia            |1         |a799fcafe47d7fb19bfb02cd83855fdfc34b9f87|\n",
            "|wwaller1   |2  |Caz       |Felgat   |false      |83 Hazelcrest Place |Alabama             |2         |a799fcafe47d7fb19bfb02cd83855fdfc34b9f87|\n",
            "|ichesnut2  |3  |Kerri     |Crowson  |false      |112 Eliot Pass      |North Carolina      |3         |a799fcafe47d7fb19bfb02cd83855fdfc34b9f87|\n",
            "|tsnarr3    |4  |Freddie   |Caghy    |false      |15 Merchant Way     |New York            |4         |a799fcafe47d7fb19bfb02cd83855fdfc34b9f87|\n",
            "|fwherrit4  |5  |Sadella   |Deuss    |false      |079 Acker Avenue    |Tennessee           |5         |a799fcafe47d7fb19bfb02cd83855fdfc34b9f87|\n",
            "|fstappard5 |6  |Fraser    |Korneev  |true       |76084 Novick Court  |Minnesota           |6         |a799fcafe47d7fb19bfb02cd83855fdfc34b9f87|\n",
            "|lhambling6 |7  |Demott    |Rapson   |true       |86320 Dahle Park    |District of Columbia|7         |a799fcafe47d7fb19bfb02cd83855fdfc34b9f87|\n",
            "|drude7     |8  |Robert    |Poile    |false      |1540 Manitowish Hill|Georgia             |8         |a799fcafe47d7fb19bfb02cd83855fdfc34b9f87|\n",
            "|rmackeller9|10 |Merilyn   |Frascone |false      |387 Duke Street     |Ohio                |10        |a799fcafe47d7fb19bfb02cd83855fdfc34b9f87|\n",
            "|cdennerleya|11 |Rickie    |Tredwell |false      |04 Monterey Center  |Missouri            |11        |a799fcafe47d7fb19bfb02cd83855fdfc34b9f87|\n",
            "+-----------+---+----------+---------+-----------+--------------------+--------------------+----------+----------------------------------------+\n",
            "only showing top 10 rows\n",
            "\n"
          ],
          "name": "stdout"
        }
      ]
    },
    {
      "cell_type": "code",
      "metadata": {
        "id": "S6kkUMDC3t7G",
        "colab_type": "code",
        "colab": {
          "base_uri": "https://localhost:8080/",
          "height": 54
        },
        "outputId": "06cab8c6-b14c-4572-d732-e9a96f5de8f1"
      },
      "source": [
        "cleaned_df.printSchema"
      ],
      "execution_count": 62,
      "outputs": [
        {
          "output_type": "execute_result",
          "data": {
            "text/plain": [
              "<bound method DataFrame.printSchema of DataFrame[username: string, id: int, first_name: string, last_name: string, active_user: boolean, street_address: string, state: string, billing_id: string, cc_encrypted: string]>"
            ]
          },
          "metadata": {
            "tags": []
          },
          "execution_count": 62
        }
      ]
    },
    {
      "cell_type": "code",
      "metadata": {
        "id": "mX72GVmQ3VmX",
        "colab_type": "code",
        "colab": {
          "base_uri": "https://localhost:8080/",
          "height": 54
        },
        "outputId": "bcac0e52-f01e-4350-9bfc-2d2d4626899c"
      },
      "source": [
        "# change data types in billing_id\n",
        "from pyspark.sql import Column\n",
        "from pyspark.sql.types import IntegerType\n",
        "\n",
        "cleaned_df = cleaned_df.withColumn('billing_id', cleaned_df['billing_id'].cast(IntegerType()))\n",
        "cleaned_df.printSchema"
      ],
      "execution_count": 72,
      "outputs": [
        {
          "output_type": "execute_result",
          "data": {
            "text/plain": [
              "<bound method DataFrame.printSchema of DataFrame[username: string, id: int, first_name: string, last_name: string, active_user: boolean, street_address: string, state: string, billing_id: int, cc_encrypted: string]>"
            ]
          },
          "metadata": {
            "tags": []
          },
          "execution_count": 72
        }
      ]
    },
    {
      "cell_type": "code",
      "metadata": {
        "id": "Hn6NhNXJsO-Q",
        "colab_type": "code",
        "colab": {
          "base_uri": "https://localhost:8080/",
          "height": 459
        },
        "outputId": "ce5908a2-3eb0-4fa1-d82d-04c006c8f449"
      },
      "source": [
        "# filter df\n",
        "filtered_df = cleaned_df.filter(cleaned_df.active_user == True)\n",
        "filtered_df.show(n=5, truncate = False)"
      ],
      "execution_count": 73,
      "outputs": [
        {
          "output_type": "stream",
          "text": [
            "+-------------+---+----------+-----------+-----------+------------------------+--------------------+----------+----------------------------------------+\n",
            "|username     |id |first_name|last_name  |active_user|street_address          |state               |billing_id|cc_encrypted                            |\n",
            "+-------------+---+----------+-----------+-----------+------------------------+--------------------+----------+----------------------------------------+\n",
            "|fstappard5   |6  |Fraser    |Korneev    |true       |76084 Novick Court      |Minnesota           |6         |a799fcafe47d7fb19bfb02cd83855fdfc34b9f87|\n",
            "|lhambling6   |7  |Demott    |Rapson     |true       |86320 Dahle Park        |District of Columbia|7         |a799fcafe47d7fb19bfb02cd83855fdfc34b9f87|\n",
            "|wheinerte    |15 |Sadella   |Jaram      |true       |7528 Waxwing Terrace    |Connecticut         |15        |a799fcafe47d7fb19bfb02cd83855fdfc34b9f87|\n",
            "|droughsedgeg |17 |Hewitt    |Trammel    |true       |2455 Corry Alley        |North Carolina      |17        |a799fcafe47d7fb19bfb02cd83855fdfc34b9f87|\n",
            "|ydudeniei    |19 |Ted       |Knowlys    |true       |31 South Drive          |Ohio                |19        |a799fcafe47d7fb19bfb02cd83855fdfc34b9f87|\n",
            "|fmyttonm     |23 |Annmarie  |Lafond     |true       |35 Oriole Place         |Georgia             |23        |a799fcafe47d7fb19bfb02cd83855fdfc34b9f87|\n",
            "|bfletcherr   |28 |Toma      |Sokell     |true       |39641 Eggendart Hill    |Maryland            |28        |a799fcafe47d7fb19bfb02cd83855fdfc34b9f87|\n",
            "|gturleyt     |30 |Ram       |Lefever    |true       |9969 Laurel Alley       |Texas               |30        |a799fcafe47d7fb19bfb02cd83855fdfc34b9f87|\n",
            "|calyukinu    |31 |Raddie    |Heindle    |true       |811 Talmadge Road       |Ohio                |31        |a799fcafe47d7fb19bfb02cd83855fdfc34b9f87|\n",
            "|ckleinlererw |33 |Wallie    |Caws       |true       |9999 Kenwood Pass       |Oregon              |33        |a799fcafe47d7fb19bfb02cd83855fdfc34b9f87|\n",
            "|pshanklandx  |34 |Derril    |Varfolomeev|true       |4 Jenifer Court         |Florida             |34        |a799fcafe47d7fb19bfb02cd83855fdfc34b9f87|\n",
            "|enelane12    |39 |Kelcy     |Wheway     |true       |93207 Morningstar Plaza |Florida             |39        |a799fcafe47d7fb19bfb02cd83855fdfc34b9f87|\n",
            "|sfollet13    |40 |Dorree    |Rookeby    |true       |2 Troy Circle           |California          |40        |a799fcafe47d7fb19bfb02cd83855fdfc34b9f87|\n",
            "|mtesh14      |41 |Martyn    |Tott       |true       |728 Muir Lane           |Florida             |41        |a799fcafe47d7fb19bfb02cd83855fdfc34b9f87|\n",
            "|tseyfart16   |43 |Cally     |Thody      |true       |1 Graceland Plaza       |Florida             |43        |a799fcafe47d7fb19bfb02cd83855fdfc34b9f87|\n",
            "|hfarrier18   |45 |Ted       |Pittaway   |true       |767 Little Fleur Parkway|North Carolina      |45        |a799fcafe47d7fb19bfb02cd83855fdfc34b9f87|\n",
            "|nabbie1b     |48 |Fifi      |Lidgley    |true       |6744 Sutherland Road    |South Carolina      |48        |a799fcafe47d7fb19bfb02cd83855fdfc34b9f87|\n",
            "|ystadding1d  |50 |Ashely    |O'Hern     |true       |929 Scoville Park       |Florida             |50        |a799fcafe47d7fb19bfb02cd83855fdfc34b9f87|\n",
            "|hhallgalley1g|53 |Diannne   |Osbaldeston|true       |0 Mesta Pass            |Tennessee           |53        |a799fcafe47d7fb19bfb02cd83855fdfc34b9f87|\n",
            "|ageaveny1n   |60 |Sonny     |Jeskin     |true       |50 Sutherland Drive     |Massachusetts       |60        |a799fcafe47d7fb19bfb02cd83855fdfc34b9f87|\n",
            "+-------------+---+----------+-----------+-----------+------------------------+--------------------+----------+----------------------------------------+\n",
            "only showing top 20 rows\n",
            "\n"
          ],
          "name": "stdout"
        }
      ]
    },
    {
      "cell_type": "code",
      "metadata": {
        "id": "IBfxgHj-Ypa1",
        "colab_type": "code",
        "colab": {
          "base_uri": "https://localhost:8080/",
          "height": 34
        },
        "outputId": "2577c3eb-fbce-47f8-849b-0ed301f8da99"
      },
      "source": [
        "# seperate into 3 dfs to match db tables, use select() function\n",
        "clean_user_df = filtered_df.select('id','first_name','last_name','username')\n",
        "#clean_user_df.show()\n",
        "\n",
        "clean_bill_df = filtered_df.select('billing_id','street_address','state','username')\n",
        "#clean_bill_df.show()\n",
        "\n",
        "clean_payment_df = filtered_df.select('billing_id','cc_encrypted')\n",
        "#clean_payment_df.show()\n",
        "\n",
        "clean_bill_df.printSchema"
      ],
      "execution_count": 78,
      "outputs": [
        {
          "output_type": "execute_result",
          "data": {
            "text/plain": [
              "<bound method DataFrame.printSchema of DataFrame[billing_id: int, street_address: string, state: string, username: string]>"
            ]
          },
          "metadata": {
            "tags": []
          },
          "execution_count": 78
        }
      ]
    },
    {
      "cell_type": "markdown",
      "metadata": {
        "id": "9YFlXWAKdSen",
        "colab_type": "text"
      },
      "source": [
        "## LOAD \n",
        "\n",
        "Connect pyspark to RDS Database by setting up configure.\n",
        "Write dataframes to RDS table."
      ]
    },
    {
      "cell_type": "code",
      "metadata": {
        "id": "gv0YjsOSmo6g",
        "colab_type": "code",
        "colab": {
          "resources": {
            "http://localhost:8080/nbextensions/google.colab/files.js": {
              "data": "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",
              "ok": true,
              "headers": [
                [
                  "content-type",
                  "application/javascript"
                ]
              ],
              "status": 200,
              "status_text": ""
            }
          },
          "base_uri": "https://localhost:8080/",
          "height": 74
        },
        "outputId": "61b71fed-8f39-4297-f4c8-104dc062fd3a"
      },
      "source": [
        "from google.colab import files\n",
        "uploaded = files.upload()"
      ],
      "execution_count": 56,
      "outputs": [
        {
          "output_type": "display_data",
          "data": {
            "text/html": [
              "\n",
              "     <input type=\"file\" id=\"files-65b3e298-cb50-4b84-a67f-cbe1dbe13f2a\" name=\"files[]\" multiple disabled />\n",
              "     <output id=\"result-65b3e298-cb50-4b84-a67f-cbe1dbe13f2a\">\n",
              "      Upload widget is only available when the cell has been executed in the\n",
              "      current browser session. Please rerun this cell to enable.\n",
              "      </output>\n",
              "      <script src=\"/nbextensions/google.colab/files.js\"></script> "
            ],
            "text/plain": [
              "<IPython.core.display.HTML object>"
            ]
          },
          "metadata": {
            "tags": []
          }
        },
        {
          "output_type": "stream",
          "text": [
            "Saving config.py to config.py\n"
          ],
          "name": "stdout"
        }
      ]
    },
    {
      "cell_type": "code",
      "metadata": {
        "colab_type": "code",
        "id": "E3eExQfm1cKR",
        "colab": {}
      },
      "source": [
        "from config import password"
      ],
      "execution_count": 0,
      "outputs": []
    },
    {
      "cell_type": "code",
      "metadata": {
        "id": "TJYVobjQjeoi",
        "colab_type": "code",
        "colab": {}
      },
      "source": [
        "# Configure settings for RDS\n",
        "mode = \"append\"\n",
        "jdbc_url=\"jdbc:postgresql://dataviz.caktah2xv07p.us-east-2.rds.amazonaws.com:5432/cloud_ETL_practice\"\n",
        "config = {\"user\":\"postgres\",\n",
        "          \"password\": password,   #RDS server password\n",
        "          \"driver\":\"org.postgresql.Driver\"}"
      ],
      "execution_count": 0,
      "outputs": []
    },
    {
      "cell_type": "code",
      "metadata": {
        "id": "R2guWOUZnkQK",
        "colab_type": "code",
        "colab": {}
      },
      "source": [
        "# Write DF to table in RDS\n",
        "\n",
        "clean_user_df.write.jdbc(url=jdbc_url,\n",
        "                         table ='active_user', \n",
        "                         mode=mode, properties = config)\n",
        "\n"
      ],
      "execution_count": 0,
      "outputs": []
    },
    {
      "cell_type": "code",
      "metadata": {
        "id": "8KGsovPjyCaU",
        "colab_type": "code",
        "colab": {}
      },
      "source": [
        "clean_bill_df.write.jdbc(url=jdbc_url, table = 'billing_info',\n",
        "                         mode=mode,properties = config)\n"
      ],
      "execution_count": 0,
      "outputs": []
    },
    {
      "cell_type": "code",
      "metadata": {
        "id": "qtttknP8yDrq",
        "colab_type": "code",
        "colab": {}
      },
      "source": [
        "\n",
        "clean_payment_df.write.jdbc(url=jdbc_url, mode=mode,\n",
        "                            table = 'payment_info', properties=config)"
      ],
      "execution_count": 0,
      "outputs": []
    }
  ]
}