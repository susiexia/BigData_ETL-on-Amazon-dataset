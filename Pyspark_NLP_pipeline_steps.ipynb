{
  "nbformat": 4,
  "nbformat_minor": 0,
  "metadata": {
    "colab": {
      "name": "Copy of Pyspark_NLP_pipeline_steps.ipynb",
      "provenance": [],
      "collapsed_sections": [],
      "authorship_tag": "ABX9TyOVijNAnON34nmMuOaIgwkb",
      "include_colab_link": true
    },
    "kernelspec": {
      "name": "python3",
      "display_name": "Python 3"
    }
  },
  "cells": [
    {
      "cell_type": "markdown",
      "metadata": {
        "id": "view-in-github",
        "colab_type": "text"
      },
      "source": [
        "<a href=\"https://colab.research.google.com/github/susiexia/BigData_ETL-on-Amazon-dataset/blob/master/Pyspark_NLP_pipeline_steps.ipynb\" target=\"_parent\"><img src=\"https://colab.research.google.com/assets/colab-badge.svg\" alt=\"Open In Colab\"/></a>"
      ]
    },
    {
      "cell_type": "markdown",
      "metadata": {
        "id": "Bmcq5L2Odf-J",
        "colab_type": "text"
      },
      "source": [
        "Create a NPL Pipeline using pyspark (more details)\n",
        "1. Tokenizer \n",
        "2. StopwordsRemover \n",
        "3. HashingTF & IDF (TF-IDF)"
      ]
    },
    {
      "cell_type": "code",
      "metadata": {
        "id": "CUL4gfYbdV06",
        "colab_type": "code",
        "colab": {}
      },
      "source": [
        "# Install Java, Spark, and Findspark\n",
        "!apt-get install openjdk-8-jdk-headless -qq > /dev/null\n",
        "!wget -q http://www-us.apache.org/dist/spark/spark-2.4.5/spark-2.4.5-bin-hadoop2.7.tgz\n",
        "!tar xf spark-2.4.5-bin-hadoop2.7.tgz\n",
        "!pip install -q findspark\n",
        "\n",
        "# Set Environment Variables\n",
        "import os\n",
        "os.environ[\"JAVA_HOME\"] = \"/usr/lib/jvm/java-8-openjdk-amd64\"\n",
        "os.environ[\"SPARK_HOME\"] = \"/content/spark-2.4.5-bin-hadoop2.7\"\n",
        "\n",
        "# Start a SparkSession\n",
        "import findspark\n",
        "findspark.init()\n",
        "\n",
        "# start a  Spark.sql.Session\n",
        "from pyspark.sql import SparkSession\n",
        "spark = SparkSession.builder.appName('NPL_Pipeline').getOrCreate()"
      ],
      "execution_count": 0,
      "outputs": []
    },
    {
      "cell_type": "code",
      "metadata": {
        "id": "RWIBCFzOeJaT",
        "colab_type": "code",
        "colab": {}
      },
      "source": [
        "from pyspark.ml.feature import Tokenizer, StopWordsRemover, HashingTF, IDF"
      ],
      "execution_count": 0,
      "outputs": []
    },
    {
      "cell_type": "code",
      "metadata": {
        "id": "3Ij2gjIdd7n6",
        "colab_type": "code",
        "outputId": "7849a6b4-6da4-4797-aecc-767ac8b4f97c",
        "colab": {
          "base_uri": "https://localhost:8080/",
          "height": 187
        }
      },
      "source": [
        "# Read in data from AWS S3 buckets\n",
        "from pyspark import SparkFiles\n",
        "url = \"https://s3.amazonaws.com/dataviz-curriculum/day_2/airlines.csv\"\n",
        "\n",
        "spark.sparkContext.addFile(url)\n",
        "df = spark.read.csv(SparkFiles.get(\"airlines.csv\"), sep=\",\", header=True)\n",
        "\n",
        "df.show(truncate=False)"
      ],
      "execution_count": 0,
      "outputs": [
        {
          "output_type": "stream",
          "text": [
            "+---------------------------------------------------------------------------------------------------------------------------------------+\n",
            "|Airline Tweets                                                                                                                         |\n",
            "+---------------------------------------------------------------------------------------------------------------------------------------+\n",
            "|@VirginAmerica plus you've added commercials to the experience... tacky.                                                               |\n",
            "|@VirginAmerica seriously would pay $30 a flight for seats that didn't have this playing. it's really the only bad thing about flying VA|\n",
            "|@VirginAmerica do you miss me? Don't worry we'll be together very soon.                                                                |\n",
            "|@VirginAmerica Are the hours of operation for the Club at SFO that are posted online current?                                          |\n",
            "|@VirginAmerica awaiting my return phone call, just would prefer to use your online self-service option :(                              |\n",
            "+---------------------------------------------------------------------------------------------------------------------------------------+\n",
            "\n"
          ],
          "name": "stdout"
        }
      ]
    },
    {
      "cell_type": "code",
      "metadata": {
        "id": "9U7uEjoQhS7X",
        "colab_type": "code",
        "outputId": "7cb030e8-c9bf-4a03-f322-3678f531e59c",
        "colab": {
          "base_uri": "https://localhost:8080/",
          "height": 207
        }
      },
      "source": [
        "# tokenize df\n",
        "tokened = Tokenizer(inputCol='Airline Tweets', outputCol='tokened_words')\n",
        "tokened_df = tokened.transform(df)\n",
        "# tokened_df.show(truncate = False)"
      ],
      "execution_count": 0,
      "outputs": [
        {
          "output_type": "stream",
          "text": [
            "+---------------------------------------------------------------------------------------------------------------------------------------+---------------------------------------------------------------------------------------------------------------------------------------------------------------+\n",
            "|Airline Tweets                                                                                                                         |tokened_words                                                                                                                                                  |\n",
            "+---------------------------------------------------------------------------------------------------------------------------------------+---------------------------------------------------------------------------------------------------------------------------------------------------------------+\n",
            "|@VirginAmerica plus you've added commercials to the experience... tacky.                                                               |[@virginamerica, plus, you've, added, commercials, to, the, experience..., tacky.]                                                                             |\n",
            "|@VirginAmerica seriously would pay $30 a flight for seats that didn't have this playing. it's really the only bad thing about flying VA|[@virginamerica, seriously, would, pay, $30, a, flight, for, seats, that, didn't, have, this, playing., it's, really, the, only, bad, thing, about, flying, va]|\n",
            "|@VirginAmerica do you miss me? Don't worry we'll be together very soon.                                                                |[@virginamerica, do, you, miss, me?, don't, worry, we'll, be, together, very, soon.]                                                                           |\n",
            "|@VirginAmerica Are the hours of operation for the Club at SFO that are posted online current?                                          |[@virginamerica, are, the, hours, of, operation, for, the, club, at, sfo, that, are, posted, online, current?]                                                 |\n",
            "|@VirginAmerica awaiting my return phone call, just would prefer to use your online self-service option :(                              |[@virginamerica, awaiting, my, return, phone, call,, just, would, prefer, to, use, your, online, self-service, option, :(]                                     |\n",
            "+---------------------------------------------------------------------------------------------------------------------------------------+---------------------------------------------------------------------------------------------------------------------------------------------------------------+\n",
            "\n"
          ],
          "name": "stdout"
        }
      ]
    },
    {
      "cell_type": "code",
      "metadata": {
        "id": "n8iJI21B8Qb0",
        "colab_type": "code",
        "outputId": "f7559bf8-8858-44ca-a405-08a2b9922767",
        "colab": {
          "base_uri": "https://localhost:8080/",
          "height": 207
        }
      },
      "source": [
        "# StopWordsRomover\n",
        "remover = StopWordsRemover(inputCol='tokened_words', outputCol='stopWords_filtered')\n",
        "removered_df = remover.transform(tokened_df)\n",
        "# removered_df.select('tokened_words','stopWords_filtered').show(truncate = False)"
      ],
      "execution_count": 0,
      "outputs": [
        {
          "output_type": "stream",
          "text": [
            "+---------------------------------------------------------------------------------------------------------------------------------------------------------------+-----------------------------------------------------------------------------------------------+\n",
            "|tokened_words                                                                                                                                                  |stopWords_filtered                                                                             |\n",
            "+---------------------------------------------------------------------------------------------------------------------------------------------------------------+-----------------------------------------------------------------------------------------------+\n",
            "|[@virginamerica, plus, you've, added, commercials, to, the, experience..., tacky.]                                                                             |[@virginamerica, plus, added, commercials, experience..., tacky.]                              |\n",
            "|[@virginamerica, seriously, would, pay, $30, a, flight, for, seats, that, didn't, have, this, playing., it's, really, the, only, bad, thing, about, flying, va]|[@virginamerica, seriously, pay, $30, flight, seats, playing., really, bad, thing, flying, va] |\n",
            "|[@virginamerica, do, you, miss, me?, don't, worry, we'll, be, together, very, soon.]                                                                           |[@virginamerica, miss, me?, worry, together, soon.]                                            |\n",
            "|[@virginamerica, are, the, hours, of, operation, for, the, club, at, sfo, that, are, posted, online, current?]                                                 |[@virginamerica, hours, operation, club, sfo, posted, online, current?]                        |\n",
            "|[@virginamerica, awaiting, my, return, phone, call,, just, would, prefer, to, use, your, online, self-service, option, :(]                                     |[@virginamerica, awaiting, return, phone, call,, prefer, use, online, self-service, option, :(]|\n",
            "+---------------------------------------------------------------------------------------------------------------------------------------------------------------+-----------------------------------------------------------------------------------------------+\n",
            "\n"
          ],
          "name": "stdout"
        }
      ]
    },
    {
      "cell_type": "code",
      "metadata": {
        "id": "mlXQQrJO-f3B",
        "colab_type": "code",
        "outputId": "f94750b5-5c1d-4f04-c76e-dd892b1fa11e",
        "colab": {
          "base_uri": "https://localhost:8080/",
          "height": 187
        }
      },
      "source": [
        "# HashingTF (term frequency)\n",
        "hashingTF = HashingTF(inputCol=\"stopWords_filtered\", outputCol=\"hashedValues\", numFeatures=pow(2,4))\n",
        "hashed_df = hashingTF.transform(removered_df)\n",
        "hashed_df.select('stopWords_filtered','hashedValues').show(truncate = False)"
      ],
      "execution_count": 0,
      "outputs": [
        {
          "output_type": "stream",
          "text": [
            "+-----------------------------------------------------------------------------------------------+----------------------------------------------------------------+\n",
            "|stopWords_filtered                                                                             |hashedValues                                                    |\n",
            "+-----------------------------------------------------------------------------------------------+----------------------------------------------------------------+\n",
            "|[@virginamerica, plus, added, commercials, experience..., tacky.]                              |(16,[1,3,5,7,8,12],[1.0,1.0,1.0,1.0,1.0,1.0])                   |\n",
            "|[@virginamerica, seriously, pay, $30, flight, seats, playing., really, bad, thing, flying, va] |(16,[0,1,8,9,11,13,14],[1.0,1.0,1.0,1.0,2.0,2.0,4.0])           |\n",
            "|[@virginamerica, miss, me?, worry, together, soon.]                                            |(16,[1,8,10,12,15],[1.0,1.0,1.0,1.0,2.0])                       |\n",
            "|[@virginamerica, hours, operation, club, sfo, posted, online, current?]                        |(16,[0,1,9,11,15],[2.0,3.0,1.0,1.0,1.0])                        |\n",
            "|[@virginamerica, awaiting, return, phone, call,, prefer, use, online, self-service, option, :(]|(16,[0,1,4,6,7,8,9,13,14],[2.0,1.0,1.0,1.0,1.0,1.0,1.0,2.0,1.0])|\n",
            "+-----------------------------------------------------------------------------------------------+----------------------------------------------------------------+\n",
            "\n"
          ],
          "name": "stdout"
        }
      ]
    },
    {
      "cell_type": "code",
      "metadata": {
        "id": "DJqqUgCkCotG",
        "colab_type": "code",
        "outputId": "0f89cef2-777a-4730-b5a0-148802979593",
        "colab": {
          "base_uri": "https://localhost:8080/",
          "height": 207
        }
      },
      "source": [
        "# IDF (inverse document frequency) ---need fit() first\n",
        "idf = IDF(inputCol='hashedValues',outputCol='features')\n",
        "idfModel = idf.fit(hashed_df)\n",
        "rescaledData = idfModel.transform(hashed_df)\n",
        "rescaledData.select('hashedValues','features').show(truncate=False)"
      ],
      "execution_count": 0,
      "outputs": [
        {
          "output_type": "stream",
          "text": [
            "+----------------------------------------------------------------+----------------------------------------------------------------------------------------------------------------------------------------------------------------------------------------+\n",
            "|hashedValues                                                    |features                                                                                                                                                                                |\n",
            "+----------------------------------------------------------------+----------------------------------------------------------------------------------------------------------------------------------------------------------------------------------------+\n",
            "|(16,[1,3,5,7,8,12],[1.0,1.0,1.0,1.0,1.0,1.0])                   |(16,[1,3,5,7,8,12],[0.0,1.0986122886681098,1.0986122886681098,0.6931471805599453,0.1823215567939546,0.6931471805599453])                                                                |\n",
            "|(16,[0,1,8,9,11,13,14],[1.0,1.0,1.0,1.0,2.0,2.0,4.0])           |(16,[0,1,8,9,11,13,14],[0.4054651081081644,0.0,0.1823215567939546,0.4054651081081644,1.3862943611198906,1.3862943611198906,2.772588722239781])                                          |\n",
            "|(16,[1,8,10,12,15],[1.0,1.0,1.0,1.0,2.0])                       |(16,[1,8,10,12,15],[0.0,0.1823215567939546,1.0986122886681098,0.6931471805599453,1.3862943611198906])                                                                                   |\n",
            "|(16,[0,1,9,11,15],[2.0,3.0,1.0,1.0,1.0])                        |(16,[0,1,9,11,15],[0.8109302162163288,0.0,0.4054651081081644,0.6931471805599453,0.6931471805599453])                                                                                    |\n",
            "|(16,[0,1,4,6,7,8,9,13,14],[2.0,1.0,1.0,1.0,1.0,1.0,1.0,2.0,1.0])|(16,[0,1,4,6,7,8,9,13,14],[0.8109302162163288,0.0,1.0986122886681098,1.0986122886681098,0.6931471805599453,0.1823215567939546,0.4054651081081644,1.3862943611198906,0.6931471805599453])|\n",
            "+----------------------------------------------------------------+----------------------------------------------------------------------------------------------------------------------------------------------------------------------------------------+\n",
            "\n"
          ],
          "name": "stdout"
        }
      ]
    }
  ]
}